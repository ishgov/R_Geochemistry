{
 "cells": [
  {
   "cell_type": "markdown",
   "metadata": {},
   "source": [
    "# Exercise 2"
   ]
  },
  {
   "cell_type": "markdown",
   "metadata": {},
   "source": [
    "<img src=\"images/exercise-icon.png\" style=\"float:left;width:40px;height:40px;\">\n",
    "As shown in the previous exercises, the dataset `state` is a collection of data sets related to the 50 states of the United States of America. For instance, `state.x77` is a matrix with 50 rows and 8 columns (see `?state`).  \n",
    "<table>\n",
    "    <tr>\n",
    "        <td>Population</td>\n",
    "        <td>population estimate as of July 1, 1975</td>\n",
    "    </tr>\n",
    "    <tr>\n",
    "        <td>Income</td>\n",
    "        <td>per capita income (1974)</td>\n",
    "    </tr>\n",
    "    <tr>\n",
    "        <td>Illiteracy</td>\n",
    "        <td>illiteracy (1970, percent of population)</td>\n",
    "    </tr>\n",
    "    <tr>\n",
    "        <td>Life Exp</td>\n",
    "        <td>life expectancy in years (1969–71)</td>\n",
    "    </tr>\n",
    "    <tr>\n",
    "        <td>Murder</td>\n",
    "        <td>murder and non-negligent manslaughter rate per 100,000 population (1976)</td>\n",
    "    </tr>\n",
    "    <tr>\n",
    "        <td>HS Grad</td>\n",
    "        <td>percent high-school graduates (1970)</td>\n",
    "    </tr>\n",
    "    <tr>\n",
    "        <td>Frost</td>\n",
    "        <td>mean number of days with minimum temperature below 0 (1931–1960) in capital or large city</td>\n",
    "    </tr>\n",
    "    <tr>\n",
    "        <td>Area</td>\n",
    "        <td>land area in square miles</td>\n",
    "    </tr>\n",
    "</table>"
   ]
  },
  {
   "cell_type": "markdown",
   "metadata": {},
   "source": [
    "Moreover, the variable `state.name` is a character vector giving the full state names, while `state.region` is a factor giving the region (Northeast, South, North Central, West) that each state belongs to."
   ]
  },
  {
   "cell_type": "markdown",
   "metadata": {},
   "source": [
    "* Display the regions the individual states belong to.\n",
    "* Display the regions the individual states belong to, going systematically from west to east.\n",
    "* How many states belong to each of the regions?\n",
    "* Calculate the average number of murders per 100,000 inhabitants in each region.\n",
    "* Calculate the total population in each region.\n",
    "* Using the 25% and 75% quartiles as cutoff values, classify the illiteracy rate into three categories, Low, Normal, High. \n",
    "* Print a contingency table between region and classified illiteracy rate."
   ]
  },
  {
   "cell_type": "code",
   "execution_count": 127,
   "metadata": {},
   "outputs": [
    {
     "name": "stdout",
     "output_type": "stream",
     "text": [
      "       Alabama         Alaska        Arizona       Arkansas     California \n",
      "         South           West           West          South           West \n",
      "      Colorado    Connecticut       Delaware        Florida        Georgia \n",
      "          West      Northeast          South          South          South \n",
      "        Hawaii          Idaho       Illinois        Indiana           Iowa \n",
      "          West           West  North Central  North Central  North Central \n",
      "        Kansas       Kentucky      Louisiana          Maine       Maryland \n",
      " North Central          South          South      Northeast          South \n",
      " Massachusetts       Michigan      Minnesota    Mississippi       Missouri \n",
      "     Northeast  North Central  North Central          South  North Central \n",
      "       Montana       Nebraska         Nevada  New Hampshire     New Jersey \n",
      "          West  North Central           West      Northeast      Northeast \n",
      "    New Mexico       New York North Carolina   North Dakota           Ohio \n",
      "          West      Northeast          South  North Central  North Central \n",
      "      Oklahoma         Oregon   Pennsylvania   Rhode Island South Carolina \n",
      "         South           West      Northeast      Northeast          South \n",
      "  South Dakota      Tennessee          Texas           Utah        Vermont \n",
      " North Central          South          South           West      Northeast \n",
      "      Virginia     Washington  West Virginia      Wisconsin        Wyoming \n",
      "         South           West          South  North Central           West \n",
      "Levels: West < South < North Central < Northeast\n"
     ]
    }
   ],
   "source": [
    "a <- state.region\n",
    "names(a) <- state.name\n",
    "a.ord <- ordered(a, levels=c(\"West\",\"South\",\"North Central\",\"Northeast\"))\n",
    "print(a.ord)"
   ]
  },
  {
   "cell_type": "code",
   "execution_count": 128,
   "metadata": {},
   "outputs": [
    {
     "name": "stdout",
     "output_type": "stream",
     "text": [
      "        Alaska        Arizona     California       Colorado         Hawaii \n",
      "          West           West           West           West           West \n",
      "         Idaho        Montana         Nevada     New Mexico         Oregon \n",
      "          West           West           West           West           West \n",
      "          Utah     Washington        Wyoming        Alabama       Arkansas \n",
      "          West           West           West          South          South \n",
      "      Delaware        Florida        Georgia       Kentucky      Louisiana \n",
      "         South          South          South          South          South \n",
      "      Maryland    Mississippi North Carolina       Oklahoma South Carolina \n",
      "         South          South          South          South          South \n",
      "     Tennessee          Texas       Virginia  West Virginia       Illinois \n",
      "         South          South          South          South  North Central \n",
      "       Indiana           Iowa         Kansas       Michigan      Minnesota \n",
      " North Central  North Central  North Central  North Central  North Central \n",
      "      Missouri       Nebraska   North Dakota           Ohio   South Dakota \n",
      " North Central  North Central  North Central  North Central  North Central \n",
      "     Wisconsin    Connecticut          Maine  Massachusetts  New Hampshire \n",
      " North Central      Northeast      Northeast      Northeast      Northeast \n",
      "    New Jersey       New York   Pennsylvania   Rhode Island        Vermont \n",
      "     Northeast      Northeast      Northeast      Northeast      Northeast \n",
      "Levels: West < South < North Central < Northeast\n"
     ]
    }
   ],
   "source": [
    "print(sort(a.ord))"
   ]
  },
  {
   "cell_type": "code",
   "execution_count": 129,
   "metadata": {},
   "outputs": [
    {
     "data": {
      "text/html": [
       "<style>\n",
       ".dl-inline {width: auto; margin:0; padding: 0}\n",
       ".dl-inline>dt, .dl-inline>dd {float: none; width: auto; display: inline-block}\n",
       ".dl-inline>dt::after {content: \":\\0020\"; padding-right: .5ex}\n",
       ".dl-inline>dt:not(:first-of-type) {padding-left: .5ex}\n",
       "</style><dl class=dl-inline><dt>Northeast</dt><dd>9</dd><dt>South</dt><dd>16</dd><dt>North Central</dt><dd>12</dd><dt>West</dt><dd>13</dd></dl>\n"
      ],
      "text/latex": [
       "\\begin{description*}\n",
       "\\item[Northeast] 9\n",
       "\\item[South] 16\n",
       "\\item[North Central] 12\n",
       "\\item[West] 13\n",
       "\\end{description*}\n"
      ],
      "text/markdown": [
       "Northeast\n",
       ":   9South\n",
       ":   16North Central\n",
       ":   12West\n",
       ":   13\n",
       "\n"
      ],
      "text/plain": [
       "    Northeast         South North Central          West \n",
       "            9            16            12            13 "
      ]
     },
     "metadata": {},
     "output_type": "display_data"
    }
   ],
   "source": [
    "x <- c(0,0,0,0)\n",
    "names(x) <- c('Northeast', 'South', 'North Central', 'West')\n",
    "for (k in names(x)) {\n",
    "    x[k] = length(which(state.region == k))\n",
    "    }\n",
    "x"
   ]
  },
  {
   "cell_type": "code",
   "execution_count": 130,
   "metadata": {},
   "outputs": [
    {
     "data": {
      "text/html": [
       "<style>\n",
       ".dl-inline {width: auto; margin:0; padding: 0}\n",
       ".dl-inline>dt, .dl-inline>dd {float: none; width: auto; display: inline-block}\n",
       ".dl-inline>dt::after {content: \":\\0020\"; padding-right: .5ex}\n",
       ".dl-inline>dt:not(:first-of-type) {padding-left: .5ex}\n",
       "</style><dl class=dl-inline><dt>Northeast</dt><dd>7.01</dd><dt>South</dt><dd>11.169</dd><dt>North Central</dt><dd>7.358</dd><dt>West</dt><dd>8.475</dd></dl>\n"
      ],
      "text/latex": [
       "\\begin{description*}\n",
       "\\item[Northeast] 7.01\n",
       "\\item[South] 11.169\n",
       "\\item[North Central] 7.358\n",
       "\\item[West] 8.475\n",
       "\\end{description*}\n"
      ],
      "text/markdown": [
       "Northeast\n",
       ":   7.01South\n",
       ":   11.169North Central\n",
       ":   7.358West\n",
       ":   8.475\n",
       "\n"
      ],
      "text/plain": [
       "    Northeast         South North Central          West \n",
       "        7.010        11.169         7.358         8.475 "
      ]
     },
     "metadata": {},
     "output_type": "display_data"
    }
   ],
   "source": [
    "y <- c(0,0,0,0)\n",
    "names(y) <- c('Northeast', 'South', 'North Central', 'West')\n",
    "for (k in names(y)) {\n",
    "    ratio <- state.x77[which(state.region == k), \"Population\"] / sum(state.x77[which(state.region==k), \"Population\"])\n",
    "    y[k] = round(sum(state.x77[which(state.region == k), \"Murder\"]*ratio),3)\n",
    "    }\n",
    "y"
   ]
  },
  {
   "cell_type": "code",
   "execution_count": 131,
   "metadata": {},
   "outputs": [
    {
     "data": {
      "text/html": [
       "'Total population in regions : '"
      ],
      "text/latex": [
       "'Total population in regions : '"
      ],
      "text/markdown": [
       "'Total population in regions : '"
      ],
      "text/plain": [
       "[1] \"Total population in regions : \""
      ]
     },
     "metadata": {},
     "output_type": "display_data"
    },
    {
     "data": {
      "text/html": [
       "<style>\n",
       ".dl-inline {width: auto; margin:0; padding: 0}\n",
       ".dl-inline>dt, .dl-inline>dd {float: none; width: auto; display: inline-block}\n",
       ".dl-inline>dt::after {content: \":\\0020\"; padding-right: .5ex}\n",
       ".dl-inline>dt:not(:first-of-type) {padding-left: .5ex}\n",
       "</style><dl class=dl-inline><dt>Northeast</dt><dd>49.456</dd><dt>South</dt><dd>67.33</dd><dt>North Central</dt><dd>57.636</dd><dt>West</dt><dd>37.899</dd></dl>\n"
      ],
      "text/latex": [
       "\\begin{description*}\n",
       "\\item[Northeast] 49.456\n",
       "\\item[South] 67.33\n",
       "\\item[North Central] 57.636\n",
       "\\item[West] 37.899\n",
       "\\end{description*}\n"
      ],
      "text/markdown": [
       "Northeast\n",
       ":   49.456South\n",
       ":   67.33North Central\n",
       ":   57.636West\n",
       ":   37.899\n",
       "\n"
      ],
      "text/plain": [
       "    Northeast         South North Central          West \n",
       "       49.456        67.330        57.636        37.899 "
      ]
     },
     "metadata": {},
     "output_type": "display_data"
    }
   ],
   "source": [
    "z <- c(0,0,0,0)\n",
    "names(z) <- c('Northeast', 'South', 'North Central', 'West')\n",
    "paste('Total population in regions : ')\n",
    "for (k in names(z)) {\n",
    "    z[k] = sum(state.x77[which(state.region == k), \"Population\"])/1000\n",
    "    }\n",
    "z"
   ]
  },
  {
   "cell_type": "code",
   "execution_count": 132,
   "metadata": {},
   "outputs": [
    {
     "data": {
      "text/html": [
       "<style>\n",
       ".dl-inline {width: auto; margin:0; padding: 0}\n",
       ".dl-inline>dt, .dl-inline>dd {float: none; width: auto; display: inline-block}\n",
       ".dl-inline>dt::after {content: \":\\0020\"; padding-right: .5ex}\n",
       ".dl-inline>dt:not(:first-of-type) {padding-left: .5ex}\n",
       "</style><dl class=dl-inline><dt>Alabama</dt><dd>High</dd><dt>Alaska</dt><dd>Normal</dd><dt>Arizona</dt><dd>High</dd><dt>Arkansas</dt><dd>High</dd><dt>California</dt><dd>Normal</dd><dt>Colorado</dt><dd>Normal</dd><dt>Connecticut</dt><dd>Normal</dd><dt>Delaware</dt><dd>Normal</dd><dt>Florida</dt><dd>Normal</dd><dt>Georgia</dt><dd>High</dd><dt>Hawaii</dt><dd>High</dd><dt>Idaho</dt><dd>Low</dd><dt>Illinois</dt><dd>Normal</dd><dt>Indiana</dt><dd>Normal</dd><dt>Iowa</dt><dd>Low</dd><dt>Kansas</dt><dd>Low</dd><dt>Kentucky</dt><dd>Normal</dd><dt>Louisiana</dt><dd>High</dd><dt>Maine</dt><dd>Normal</dd><dt>Maryland</dt><dd>Normal</dd><dt>Massachusetts</dt><dd>Normal</dd><dt>Michigan</dt><dd>Normal</dd><dt>Minnesota</dt><dd>Low</dd><dt>Mississippi</dt><dd>High</dd><dt>Missouri</dt><dd>Normal</dd><dt>Montana</dt><dd>Low</dd><dt>Nebraska</dt><dd>Low</dd><dt>Nevada</dt><dd>Low</dd><dt>New Hampshire</dt><dd>Normal</dd><dt>New Jersey</dt><dd>Normal</dd><dt>New Mexico</dt><dd>High</dd><dt>New York</dt><dd>Normal</dd><dt>North Carolina</dt><dd>High</dd><dt>North Dakota</dt><dd>Normal</dd><dt>Ohio</dt><dd>Normal</dd><dt>Oklahoma</dt><dd>Normal</dd><dt>Oregon</dt><dd>Low</dd><dt>Pennsylvania</dt><dd>Normal</dd><dt>Rhode Island</dt><dd>Normal</dd><dt>South Carolina</dt><dd>High</dd><dt>South Dakota</dt><dd>Low</dd><dt>Tennessee</dt><dd>High</dd><dt>Texas</dt><dd>High</dd><dt>Utah</dt><dd>Low</dd><dt>Vermont</dt><dd>Low</dd><dt>Virginia</dt><dd>Normal</dd><dt>Washington</dt><dd>Low</dd><dt>West Virginia</dt><dd>Normal</dd><dt>Wisconsin</dt><dd>Normal</dd><dt>Wyoming</dt><dd>Low</dd></dl>\n",
       "\n",
       "<details>\n",
       "\t<summary style=display:list-item;cursor:pointer>\n",
       "\t\t<strong>Levels</strong>:\n",
       "\t</summary>\n",
       "\t<style>\n",
       "\t.list-inline {list-style: none; margin:0; padding: 0}\n",
       "\t.list-inline>li {display: inline-block}\n",
       "\t.list-inline>li:not(:last-child)::after {content: \"\\00b7\"; padding: 0 .5ex}\n",
       "\t</style>\n",
       "\t<ol class=list-inline><li>'Low'</li><li>'Normal'</li><li>'High'</li></ol>\n",
       "</details>"
      ],
      "text/latex": [
       "\\begin{description*}\n",
       "\\item[Alabama] High\n",
       "\\item[Alaska] Normal\n",
       "\\item[Arizona] High\n",
       "\\item[Arkansas] High\n",
       "\\item[California] Normal\n",
       "\\item[Colorado] Normal\n",
       "\\item[Connecticut] Normal\n",
       "\\item[Delaware] Normal\n",
       "\\item[Florida] Normal\n",
       "\\item[Georgia] High\n",
       "\\item[Hawaii] High\n",
       "\\item[Idaho] Low\n",
       "\\item[Illinois] Normal\n",
       "\\item[Indiana] Normal\n",
       "\\item[Iowa] Low\n",
       "\\item[Kansas] Low\n",
       "\\item[Kentucky] Normal\n",
       "\\item[Louisiana] High\n",
       "\\item[Maine] Normal\n",
       "\\item[Maryland] Normal\n",
       "\\item[Massachusetts] Normal\n",
       "\\item[Michigan] Normal\n",
       "\\item[Minnesota] Low\n",
       "\\item[Mississippi] High\n",
       "\\item[Missouri] Normal\n",
       "\\item[Montana] Low\n",
       "\\item[Nebraska] Low\n",
       "\\item[Nevada] Low\n",
       "\\item[New Hampshire] Normal\n",
       "\\item[New Jersey] Normal\n",
       "\\item[New Mexico] High\n",
       "\\item[New York] Normal\n",
       "\\item[North Carolina] High\n",
       "\\item[North Dakota] Normal\n",
       "\\item[Ohio] Normal\n",
       "\\item[Oklahoma] Normal\n",
       "\\item[Oregon] Low\n",
       "\\item[Pennsylvania] Normal\n",
       "\\item[Rhode Island] Normal\n",
       "\\item[South Carolina] High\n",
       "\\item[South Dakota] Low\n",
       "\\item[Tennessee] High\n",
       "\\item[Texas] High\n",
       "\\item[Utah] Low\n",
       "\\item[Vermont] Low\n",
       "\\item[Virginia] Normal\n",
       "\\item[Washington] Low\n",
       "\\item[West Virginia] Normal\n",
       "\\item[Wisconsin] Normal\n",
       "\\item[Wyoming] Low\n",
       "\\end{description*}\n",
       "\n",
       "\\emph{Levels}: \\begin{enumerate*}\n",
       "\\item 'Low'\n",
       "\\item 'Normal'\n",
       "\\item 'High'\n",
       "\\end{enumerate*}\n"
      ],
      "text/markdown": [
       "Alabama\n",
       ":   HighAlaska\n",
       ":   NormalArizona\n",
       ":   HighArkansas\n",
       ":   HighCalifornia\n",
       ":   NormalColorado\n",
       ":   NormalConnecticut\n",
       ":   NormalDelaware\n",
       ":   NormalFlorida\n",
       ":   NormalGeorgia\n",
       ":   HighHawaii\n",
       ":   HighIdaho\n",
       ":   LowIllinois\n",
       ":   NormalIndiana\n",
       ":   NormalIowa\n",
       ":   LowKansas\n",
       ":   LowKentucky\n",
       ":   NormalLouisiana\n",
       ":   HighMaine\n",
       ":   NormalMaryland\n",
       ":   NormalMassachusetts\n",
       ":   NormalMichigan\n",
       ":   NormalMinnesota\n",
       ":   LowMississippi\n",
       ":   HighMissouri\n",
       ":   NormalMontana\n",
       ":   LowNebraska\n",
       ":   LowNevada\n",
       ":   LowNew Hampshire\n",
       ":   NormalNew Jersey\n",
       ":   NormalNew Mexico\n",
       ":   HighNew York\n",
       ":   NormalNorth Carolina\n",
       ":   HighNorth Dakota\n",
       ":   NormalOhio\n",
       ":   NormalOklahoma\n",
       ":   NormalOregon\n",
       ":   LowPennsylvania\n",
       ":   NormalRhode Island\n",
       ":   NormalSouth Carolina\n",
       ":   HighSouth Dakota\n",
       ":   LowTennessee\n",
       ":   HighTexas\n",
       ":   HighUtah\n",
       ":   LowVermont\n",
       ":   LowVirginia\n",
       ":   NormalWashington\n",
       ":   LowWest Virginia\n",
       ":   NormalWisconsin\n",
       ":   NormalWyoming\n",
       ":   Low\n",
       "\n",
       "\n",
       "**Levels**: 1. 'Low'\n",
       "2. 'Normal'\n",
       "3. 'High'\n",
       "\n",
       "\n"
      ],
      "text/plain": [
       "       Alabama         Alaska        Arizona       Arkansas     California \n",
       "          High         Normal           High           High         Normal \n",
       "      Colorado    Connecticut       Delaware        Florida        Georgia \n",
       "        Normal         Normal         Normal         Normal           High \n",
       "        Hawaii          Idaho       Illinois        Indiana           Iowa \n",
       "          High            Low         Normal         Normal            Low \n",
       "        Kansas       Kentucky      Louisiana          Maine       Maryland \n",
       "           Low         Normal           High         Normal         Normal \n",
       " Massachusetts       Michigan      Minnesota    Mississippi       Missouri \n",
       "        Normal         Normal            Low           High         Normal \n",
       "       Montana       Nebraska         Nevada  New Hampshire     New Jersey \n",
       "           Low            Low            Low         Normal         Normal \n",
       "    New Mexico       New York North Carolina   North Dakota           Ohio \n",
       "          High         Normal           High         Normal         Normal \n",
       "      Oklahoma         Oregon   Pennsylvania   Rhode Island South Carolina \n",
       "        Normal            Low         Normal         Normal           High \n",
       "  South Dakota      Tennessee          Texas           Utah        Vermont \n",
       "           Low           High           High            Low            Low \n",
       "      Virginia     Washington  West Virginia      Wisconsin        Wyoming \n",
       "        Normal            Low         Normal         Normal            Low \n",
       "Levels: Low Normal High"
      ]
     },
     "metadata": {},
     "output_type": "display_data"
    }
   ],
   "source": [
    "ill = state.x77[,\"Illiteracy\"]\n",
    "names(ill) = state.name\n",
    "cat = c('Low', 'Normal', 'High')\n",
    "tab = c(0, sort(ill)[round(0.25*length(ill))], sort(ill)[round(0.75*length(ill))], 100)\n",
    "ill.cat <- cut(ill, breaks = tab, labels = cat)\n",
    "names(ill.cat) = state.name\n",
    "ill.cat"
   ]
  },
  {
   "cell_type": "code",
   "execution_count": 133,
   "metadata": {},
   "outputs": [
    {
     "data": {
      "text/html": [
       "<table class=\"dataframe\">\n",
       "<caption>A matrix: 5 × 6 of type chr</caption>\n",
       "<tbody>\n",
       "\t<tr><td>       </td><td>Rate  </td><td>         </td><td>     </td><td>             </td><td>    </td></tr>\n",
       "\t<tr><td>Regions</td><td>******</td><td>Northeast</td><td>South</td><td>North Central</td><td>West</td></tr>\n",
       "\t<tr><td>       </td><td>Low   </td><td>1        </td><td>0    </td><td>5            </td><td>7   </td></tr>\n",
       "\t<tr><td>       </td><td>Normal</td><td>8        </td><td>7    </td><td>7            </td><td>3   </td></tr>\n",
       "\t<tr><td>       </td><td>High  </td><td>0        </td><td>9    </td><td>0            </td><td>3   </td></tr>\n",
       "</tbody>\n",
       "</table>\n"
      ],
      "text/latex": [
       "A matrix: 5 × 6 of type chr\n",
       "\\begin{tabular}{llllll}\n",
       "\t         & Rate   &           &       &               &     \\\\\n",
       "\t Regions & ****** & Northeast & South & North Central & West\\\\\n",
       "\t         & Low    & 1         & 0     & 5             & 7   \\\\\n",
       "\t         & Normal & 8         & 7     & 7             & 3   \\\\\n",
       "\t         & High   & 0         & 9     & 0             & 3   \\\\\n",
       "\\end{tabular}\n"
      ],
      "text/markdown": [
       "\n",
       "A matrix: 5 × 6 of type chr\n",
       "\n",
       "| <!----> | Rate   | <!----> | <!----> | <!----> | <!----> |\n",
       "| Regions | ****** | Northeast | South | North Central | West |\n",
       "| <!----> | Low    | 1         | 0     | 5             | 7    |\n",
       "| <!----> | Normal | 8         | 7     | 7             | 3    |\n",
       "| <!----> | High   | 0         | 9     | 0             | 3    |\n",
       "\n"
      ],
      "text/plain": [
       "     [,1]    [,2]   [,3]      [,4]  [,5]          [,6]\n",
       "[1,]         Rate                                     \n",
       "[2,] Regions ****** Northeast South North Central West\n",
       "[3,]         Low    1         0     5             7   \n",
       "[4,]         Normal 8         7     7             3   \n",
       "[5,]         High   0         9     0             3   "
      ]
     },
     "metadata": {},
     "output_type": "display_data"
    }
   ],
   "source": [
    "K <- matrix(c('', 'Regions', '', '', '', 'Rate', '******', 'Low', 'Normal', 'High', '', 'Northeast', 0, 0, 0, '', 'South', 0, 0, 0, '', 'North Central', 0, 0, 0, '', 'West', 0, 0, 0), 5, 6)\n",
    "reg <- c('Northeast', 'South', 'North Central', 'West')\n",
    "catgor <- c('Low', 'Normal', 'High')\n",
    "\n",
    "for (l in 3:6) {\n",
    "    r <- reg[l-2]\n",
    "    for (i in 3:5) {\n",
    "        c <- catgor[i-2]\n",
    "        m <- which(state.region == r)\n",
    "        K[i, l] <- length(which(ill.cat[m] == c))\n",
    "        }\n",
    "    }\n",
    "\n",
    "K"
   ]
  }
 ],
 "metadata": {
  "kernelspec": {
   "display_name": "Python 3 (ipykernel)",
   "language": "python",
   "name": "python3"
  },
  "language_info": {
   "codemirror_mode": {
    "name": "ipython",
    "version": 3
   },
   "file_extension": ".py",
   "mimetype": "text/x-python",
   "name": "python",
   "nbconvert_exporter": "python",
   "pygments_lexer": "ipython3",
   "version": "3.12.2"
  }
 },
 "nbformat": 4,
 "nbformat_minor": 4
}
